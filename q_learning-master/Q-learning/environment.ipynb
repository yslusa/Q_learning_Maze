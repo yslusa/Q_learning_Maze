{
 "cells": [
  {
   "cell_type": "code",
   "execution_count": 2,
   "id": "2cc2a04c-09f3-4e3b-8c6b-6574448d979d",
   "metadata": {},
   "outputs": [],
   "source": [
    "import time\n",
    "import numpy as np\n",
    "import tkinter as tk\n",
    "from PIL import ImageTk, Image\n",
    "\n",
    "np.random.seed(1)\n",
    "PhotoImage = ImageTk.PhotoImage\n",
    "UNIT = 100\n",
    "HEIGHT = 5\n",
    "WIDTH = 5\n",
    "\n",
    "\n",
    "class Env(tk.Tk):\n",
    "    def __init__(self):\n",
    "        super(Env, self).__init__()\n",
    "        self.action_space = ['u', 'd', 'l', 'r']\n",
    "        self.n_actions = len(self.action_space)\n",
    "        self.title('Q Learning')\n",
    "        self.geometry('{0}x{1}'.format(HEIGHT * UNIT, HEIGHT * UNIT))\n",
    "        self.shapes = self.load_images()\n",
    "        self.canvas = self._build_canvas()\n",
    "        self.texts = []\n",
    "\n",
    "    def _build_canvas(self):\n",
    "        canvas = tk.Canvas(self, bg='white',\n",
    "                           height=HEIGHT * UNIT,\n",
    "                           width=WIDTH * UNIT)\n",
    "        # create grids\n",
    "        for c in range(0, WIDTH * UNIT, UNIT):  # 0~400 by 80\n",
    "            x0, y0, x1, y1 = c, 0, c, HEIGHT * UNIT\n",
    "            canvas.create_line(x0, y0, x1, y1)\n",
    "        for r in range(0, HEIGHT * UNIT, UNIT):  # 0~400 by 80\n",
    "            x0, y0, x1, y1 = 0, r, HEIGHT * UNIT, r\n",
    "            canvas.create_line(x0, y0, x1, y1)\n",
    "\n",
    "        # add img to canvas\n",
    "        self.rectangle = canvas.create_image(50, 50, image=self.shapes[0])\n",
    "        self.triangle1 = canvas.create_image(250, 150, image=self.shapes[1])\n",
    "        self.triangle2 = canvas.create_image(150, 250, image=self.shapes[1])\n",
    "        self.circle = canvas.create_image(450, 450, image=self.shapes[2])\n",
    "\n",
    "        # pack all\n",
    "        canvas.pack()\n",
    "\n",
    "        return canvas\n",
    "\n",
    "    def load_images(self):\n",
    "        rectangle = PhotoImage(\n",
    "            Image.open(\"../img/santa.png\").resize((65, 65)))\n",
    "        triangle = PhotoImage(\n",
    "            Image.open(\"../img/tree.png\").resize((60, 90)))\n",
    "        circle = PhotoImage(\n",
    "            Image.open(\"../img/house.png\").resize((85, 85)))\n",
    "        \n",
    "        # for saving time, agent=rectangle=Santa, destination=circle=house, obstacles=triangle=tree\n",
    "\n",
    "        return rectangle, triangle, circle\n",
    "\n",
    "    def text_value(self, row, col, contents, action, font='Helvetica', size=10,\n",
    "                   style='normal', anchor=\"nw\"):\n",
    "        if action == 0:\n",
    "            origin_x, origin_y = 7, 42\n",
    "        elif action == 1:\n",
    "            origin_x, origin_y = 85, 42\n",
    "        elif action == 2:\n",
    "            origin_x, origin_y = 42, 5\n",
    "        else:\n",
    "            origin_x, origin_y = 42, 77\n",
    "\n",
    "        x, y = origin_y + (UNIT * col), origin_x + (UNIT * row)\n",
    "        font = (font, str(size), style)\n",
    "        text = self.canvas.create_text(x, y, fill=\"black\", text=contents,\n",
    "                                       font=font, anchor=anchor)\n",
    "        return self.texts.append(text)\n",
    "\n",
    "    def print_value_all(self, q_table):\n",
    "        for i in self.texts:\n",
    "            self.canvas.delete(i)\n",
    "        self.texts.clear()\n",
    "        for i in range(HEIGHT):\n",
    "            for j in range(WIDTH):\n",
    "                for action in range(0, 4):\n",
    "                    state = [i, j]\n",
    "                    if str(state) in q_table.keys():\n",
    "                        temp = q_table[str(state)][action]\n",
    "                        self.text_value(j, i, round(temp, 2), action)\n",
    "\n",
    "    def coords_to_state(self, coords):\n",
    "        x = int((coords[0] - 50) / 100)\n",
    "        y = int((coords[1] - 50) / 100)\n",
    "        return [x, y]\n",
    "\n",
    "    def state_to_coords(self, state):\n",
    "        x = int(state[0] * 100 + 50)\n",
    "        y = int(state[1] * 100 + 50)\n",
    "        return [x, y]\n",
    "\n",
    "    def reset(self):\n",
    "        self.update()\n",
    "        time.sleep(0.5)\n",
    "        x, y = self.canvas.coords(self.rectangle)\n",
    "        self.canvas.move(self.rectangle, UNIT / 2 - x, UNIT / 2 - y)\n",
    "        self.render()\n",
    "        # return observation\n",
    "        return self.coords_to_state(self.canvas.coords(self.rectangle))\n",
    "\n",
    "    def step(self, action):\n",
    "        state = self.canvas.coords(self.rectangle)\n",
    "        base_action = np.array([0, 0])\n",
    "        self.render()\n",
    "\n",
    "        if action == 0:  # up\n",
    "            if state[1] > UNIT:\n",
    "                base_action[1] -= UNIT\n",
    "        elif action == 1:  # down\n",
    "            if state[1] < (HEIGHT - 1) * UNIT:\n",
    "                base_action[1] += UNIT\n",
    "        elif action == 2:  # left\n",
    "            if state[0] > UNIT:\n",
    "                base_action[0] -= UNIT\n",
    "        elif action == 3:  # right\n",
    "            if state[0] < (WIDTH - 1) * UNIT:\n",
    "                base_action[0] += UNIT\n",
    "\n",
    "        # 移动\n",
    "        self.canvas.move(self.rectangle, base_action[0], base_action[1])\n",
    "        self.canvas.tag_raise(self.rectangle)\n",
    "        next_state = self.canvas.coords(self.rectangle)\n",
    "        # 判断得分条件\n",
    "        if next_state == self.canvas.coords(self.circle):\n",
    "            reward = 100\n",
    "            done = True\n",
    "        elif next_state in [self.canvas.coords(self.triangle1),\n",
    "                            self.canvas.coords(self.triangle2)]:\n",
    "            reward = -100\n",
    "            done = True\n",
    "        else:\n",
    "            reward = 0\n",
    "            done = False\n",
    "\n",
    "        next_state = self.coords_to_state(next_state)\n",
    "        return next_state, reward, done\n",
    "\n",
    "    # 渲染环境\n",
    "    def render(self):\n",
    "        time.sleep(0.03)\n",
    "        self.update()\n"
   ]
  },
  {
   "cell_type": "code",
   "execution_count": null,
   "id": "67fe9111-4e69-48eb-8c3c-0339e198160a",
   "metadata": {},
   "outputs": [],
   "source": []
  },
  {
   "cell_type": "code",
   "execution_count": 5,
   "id": "ac87a3f2-9b62-4153-a860-884f63cd96fe",
   "metadata": {},
   "outputs": [
    {
     "data": {
      "image/png": "[encoded data removed]",
      "text/plain": [
       "<PIL.Image.Image image mode=RGBA size=85x85 at 0x7FB341389BE0>"
      ]
     },
     "execution_count": 5,
     "metadata": {},
     "output_type": "execute_result"
    }
   ],
   "source": [
    "Image.open(\"../img/house.png\").resize((85, 85))"
   ]
  },
  {
   "cell_type": "code",
   "execution_count": 7,
   "id": "fd94e0ef-c754-4682-b3e4-300b1b94d8fc",
   "metadata": {},
   "outputs": [
    {
     "data": {
      "image/png": "[encoded data removed]",
      "text/plain": [
       "<PIL.Image.Image image mode=RGBA size=60x90 at 0x7FB3413892B0>"
      ]
     },
     "execution_count": 7,
     "metadata": {},
     "output_type": "execute_result"
    }
   ],
   "source": [
    "Image.open(\"../img/tree.png\").resize((60, 90))"
   ]
  },
  {
   "cell_type": "code",
   "execution_count": 9,
   "id": "a746b152-55db-4182-bd10-8d44d8d8ab51",
   "metadata": {},
   "outputs": [
    {
     "data": {
      "image/png": "[encoded data removed]",
      "text/plain": [
       "<PIL.Image.Image image mode=RGBA size=65x65 at 0x7FB3300148B0>"
      ]
     },
     "execution_count": 9,
     "metadata": {},
     "output_type": "execute_result"
    }
   ],
   "source": [
    "Image.open(\"../img/santa.png\").resize((65, 65))"
   ]
  },
  {
   "cell_type": "code",
   "execution_count": null,
   "id": "6ce7961e-8d1a-4a70-9b3e-863fc8115c1b",
   "metadata": {},
   "outputs": [],
   "source": []
  }
 ],
 "metadata": {
  "kernelspec": {
   "display_name": "Python 3 (ipykernel)",
   "language": "python",
   "name": "python3"
  },
  "language_info": {
   "codemirror_mode": {
    "name": "ipython",
    "version": 3
   },
   "file_extension": ".py",
   "mimetype": "text/x-python",
   "name": "python",
   "nbconvert_exporter": "python",
   "pygments_lexer": "ipython3",
   "version": "3.9.7"
  }
 },
 "nbformat": 4,
 "nbformat_minor": 5
}
