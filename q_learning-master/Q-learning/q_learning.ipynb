{
 "cells": [
  {
   "cell_type": "code",
   "execution_count": 1,
   "id": "41370477-e21b-484b-9855-f07d94f5a577",
   "metadata": {},
   "outputs": [],
   "source": [
    "import numpy as np\n",
    "import random\n",
    "from environment import Env\n",
    "from collections import defaultdict\n",
    "import jdc"
   ]
  },
  {
   "cell_type": "code",
   "execution_count": 2,
   "id": "4514c385-5f04-4513-8d95-3a5fe80a9b26",
   "metadata": {},
   "outputs": [],
   "source": [
    "class QLearningAgent:\n",
    "    def __init__(self, actions):\n",
    "        # actions = [0, 1, 2, 3]\n",
    "        self.actions = actions\n",
    "        self.learning_rate = 0.05 # alpha\n",
    "        self.discount_factor = 0.7 # gamma\n",
    "        self.epsilon = 0.1\n",
    "        # Q table will be in format of dictionary,\n",
    "        # keys will be vector of states [row, col],\n",
    "        # values will be vectors of Q value of each action at this state\n",
    "        self.q_table = defaultdict(lambda: [0.0, 0.0, 0.0, 0.0])"
   ]
  },
  {
   "cell_type": "markdown",
   "id": "0321036b-e577-4402-b377-ae29ef05357b",
   "metadata": {},
   "source": [
    "In the cell, we define a function that takes in <s, a, r, s'> and update the Q table.\n",
    "<br>\n",
    "* Goal 1: Get the Q value of given action at given state. (Remember to call q_table by self.q_table, same for all other variables: actions, learning_rate, discount_factors, and epsilon)\n",
    "* Goal 2: Update the Q value of given action at given state through Bellmen's Equation:\n",
    "<br>\n",
    "$Q(s,a)\\gets Q(s,a)+\\alpha[r+\\gamma \\max_{a'}Q(s',a')-Q(s,a)] $"
   ]
  },
  {
   "cell_type": "code",
   "execution_count": 3,
   "id": "f7edd8e9-9e18-463d-b4e6-cc9d0ba3e89e",
   "metadata": {},
   "outputs": [],
   "source": [
    "%%add_to QLearningAgent\n",
    "def learn(self, state, action, reward, next_state):\n",
    "    current_q = # Goal 1\n",
    "    self.q_table[state][action] += # Goal 2"
   ]
  },
  {
   "cell_type": "code",
   "execution_count": null,
   "id": "0cf68b11-0a79-4ee1-804f-d50930af78da",
   "metadata": {},
   "outputs": [],
   "source": [
    "%%add_to QLearningAgent\n",
    "@staticmethod\n",
    "def arg_max(state_action):\n",
    "    max_index_list = []\n",
    "    max_value = state_action[0]\n",
    "    for index, value in enumerate(state_action):\n",
    "        if value > max_value:\n",
    "            max_index_list.clear()\n",
    "            max_value = value\n",
    "            max_index_list.append(index)\n",
    "        elif value == max_value:\n",
    "            max_index_list.append(index)\n",
    "    return random.choice(max_index_list)"
   ]
  },
  {
   "cell_type": "markdown",
   "id": "f0e62cd9-b06e-4aa1-ba3d-7942bbd810eb",
   "metadata": {},
   "source": [
    "Following function takes in current state, then pick an action.\n",
    "* Goal 3: write an if-else function for $\\epsilon$-greedy research\n",
    "<br>\n",
    "$a=\n",
    "\\begin{cases}\n",
    "\\text{random}\\quad a  & \\text{ with probability } \\epsilon \\\\\n",
    "\\max_{a}Q(s,a)  & \\text{ with probability } 1-\\epsilon \n",
    "\\end{cases}$\n",
    "<br>\n",
    "Use self.arg_max function above to choose $\\max_{a}Q(s,a)$"
   ]
  },
  {
   "cell_type": "code",
   "execution_count": 4,
   "id": "cf0f954e-f7f2-40cd-8670-39362af8e6da",
   "metadata": {},
   "outputs": [],
   "source": [
    "%%add_to QLearningAgent\n",
    "def get_action(self, state):\n",
    "    if np.random.rand() < self.epsilon:\n",
    "        # epsilon-greedy search for action\n",
    "        action = # Goal 3\n",
    "    else:\n",
    "        # 从q表中选择\n",
    "        state_action = self.q_table[state]\n",
    "        action = self.arg_max(state_action)\n",
    "    return action"
   ]
  },
  {
   "cell_type": "code",
   "execution_count": null,
   "id": "fd051c0b-de3c-4d45-9e00-8731242c4203",
   "metadata": {},
   "outputs": [],
   "source": [
    "if __name__ == \"__main__\":\n",
    "    env = Env()\n",
    "    agent = QLearningAgent(actions=list(range(env.n_actions)))\n",
    "    total_eps = 100\n",
    "    for episode in range(total_eps):\n",
    "        state = env.reset()\n",
    "        while True:\n",
    "            env.render()\n",
    "            # agent产生动作\n",
    "            action = agent.get_action(str(state))\n",
    "            next_state, reward, done = env.step(action)\n",
    "            # 更新Q表\n",
    "            agent.learn(str(state), action, reward, str(next_state))\n",
    "            state = next_state\n",
    "            env.print_value_all(agent.q_table)\n",
    "            # 当到达终点就终止游戏开始新一轮训练\n",
    "            if done:\n",
    "                break"
   ]
  },
  {
   "cell_type": "code",
   "execution_count": null,
   "id": "656af2e3-aec4-4232-b27d-f285813c6a8d",
   "metadata": {},
   "outputs": [],
   "source": []
  }
 ],
 "metadata": {
  "kernelspec": {
   "display_name": "Python 3 (ipykernel)",
   "language": "python",
   "name": "python3"
  },
  "language_info": {
   "codemirror_mode": {
    "name": "ipython",
    "version": 3
   },
   "file_extension": ".py",
   "mimetype": "text/x-python",
   "name": "python",
   "nbconvert_exporter": "python",
   "pygments_lexer": "ipython3",
   "version": "3.9.7"
  }
 },
 "nbformat": 4,
 "nbformat_minor": 5
}
